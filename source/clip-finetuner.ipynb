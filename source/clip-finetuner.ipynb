{
 "cells": [
  {
   "cell_type": "code",
   "execution_count": 12,
   "id": "c4c0cd15",
   "metadata": {},
   "outputs": [],
   "source": [
    "import pandas as pd\n",
    "import os\n",
    "from tqdm import tqdm\n",
    "from urllib.request import urlretrieve\n",
    "from multiprocessing import Pool\n",
    "import torch\n",
    "import clip\n",
    "import os\n",
    "from PIL import Image\n",
    "import matplotlib.pyplot as plt # plt 用于显示图片\n",
    "import matplotlib.image as mpimg # mpimg 用于读取图片\n",
    "import numpy as np\n",
    "from scipy.spatial import distance"
   ]
  },
  {
   "cell_type": "code",
   "execution_count": 1,
   "id": "ffe207e0",
   "metadata": {},
   "outputs": [
    {
     "name": "stdout",
     "output_type": "stream",
     "text": [
      "Collecting git+https://github.com/openai/CLIP.git\n",
      "  Cloning https://github.com/openai/CLIP.git to /tmp/pip-req-build-diino1jy\n",
      "  Running command git clone -q https://github.com/openai/CLIP.git /tmp/pip-req-build-diino1jy\n",
      "Collecting ftfy\n",
      "  Using cached ftfy-6.0.3-py3-none-any.whl\n",
      "Requirement already satisfied: regex in /home/ec2-user/anaconda3/envs/pytorch_latest_p36/lib/python3.6/site-packages (from clip==1.0) (2020.11.13)\n",
      "Requirement already satisfied: tqdm in /home/ec2-user/anaconda3/envs/pytorch_latest_p36/lib/python3.6/site-packages (from clip==1.0) (4.61.2)\n",
      "Requirement already satisfied: torch in /home/ec2-user/anaconda3/envs/pytorch_latest_p36/lib/python3.6/site-packages (from clip==1.0) (1.7.1)\n",
      "Requirement already satisfied: torchvision in /home/ec2-user/anaconda3/envs/pytorch_latest_p36/lib/python3.6/site-packages (from clip==1.0) (0.8.2)\n",
      "Requirement already satisfied: wcwidth in /home/ec2-user/anaconda3/envs/pytorch_latest_p36/lib/python3.6/site-packages (from ftfy->clip==1.0) (0.2.5)\n",
      "Requirement already satisfied: typing_extensions in /home/ec2-user/anaconda3/envs/pytorch_latest_p36/lib/python3.6/site-packages (from torch->clip==1.0) (3.7.4.3)\n",
      "Requirement already satisfied: numpy in /home/ec2-user/anaconda3/envs/pytorch_latest_p36/lib/python3.6/site-packages (from torch->clip==1.0) (1.19.2)\n",
      "Requirement already satisfied: dataclasses in /home/ec2-user/anaconda3/envs/pytorch_latest_p36/lib/python3.6/site-packages (from torch->clip==1.0) (0.8)\n",
      "Requirement already satisfied: pillow>=4.1.1 in /home/ec2-user/anaconda3/envs/pytorch_latest_p36/lib/python3.6/site-packages (from torchvision->clip==1.0) (8.3.1)\n",
      "Building wheels for collected packages: clip\n",
      "  Building wheel for clip (setup.py) ... \u001b[?25ldone\n",
      "\u001b[?25h  Created wheel for clip: filename=clip-1.0-py3-none-any.whl size=1369067 sha256=f093608e1839bf4c1576623277ba42c40e3c4ade17fd2a4b49e4d46c36f71971\n",
      "  Stored in directory: /tmp/pip-ephem-wheel-cache-m0mp7tfp/wheels/41/36/e0/af6191bd08c254b17d779b05de8282c9ea81ef7048abbe290b\n",
      "Successfully built clip\n",
      "Installing collected packages: ftfy, clip\n",
      "Successfully installed clip-1.0 ftfy-6.0.3\n",
      "\u001b[33mWARNING: You are using pip version 21.1.3; however, version 21.2.4 is available.\n",
      "You should consider upgrading via the '/home/ec2-user/anaconda3/envs/pytorch_latest_p36/bin/python -m pip install --upgrade pip' command.\u001b[0m\n"
     ]
    }
   ],
   "source": [
    "!pip install git+https://github.com/openai/CLIP.git"
   ]
  },
  {
   "cell_type": "markdown",
   "id": "8122f386",
   "metadata": {},
   "source": [
    "### download"
   ]
  },
  {
   "cell_type": "code",
   "execution_count": 3,
   "id": "ae56c330",
   "metadata": {},
   "outputs": [],
   "source": [
    "def download_image(x):\n",
    "    if not os.path.exists('./evaluation'):\n",
    "        os.mkdir('./evaluation')\n",
    "\n",
    "    filename = os.path.join('./evaluation', x.split('/')[-1])\n",
    "    if not os.path.exists(filename):\n",
    "        try:\n",
    "            urlretrieve(x, filename)\n",
    "        except Exception as e:\n",
    "            print(x, e)"
   ]
  },
  {
   "cell_type": "code",
   "execution_count": 4,
   "id": "c32e7a97",
   "metadata": {},
   "outputs": [
    {
     "name": "stderr",
     "output_type": "stream",
     "text": [
      "监视进度: 100%|██████████| 1000/1000 [00:00<00:00, 17469.42it/s]"
     ]
    },
    {
     "name": "stdout",
     "output_type": "stream",
     "text": [
      "[None, None, None, None, None, None, None, None, None, None, None, None, None, None, None, None, None, None, None, None, None, None, None, None, None, None, None, None, None, None, None, None, None, None, None, None, None, None, None, None, None, None, None, None, None, None, None, None, None, None, None, None, None, None, None, None, None, None, None, None, None, None, None, None, None, None, None, None, None, None, None, None, None, None, None, None, None, None, None, None, None, None, None, None, None, None, None, None, None, None, None, None, None, None, None, None, None, None, None, None, None, None, None, None, None, None, None, None, None, None, None, None, None, None, None, None, None, None, None, None, None, None, None, None, None, None, None, None, None, None, None, None, None, None, None, None, None, None, None, None, None, None, None, None, None, None, None, None, None, None, None, None, None, None, None, None, None, None, None, None, None, None, None, None, None, None, None, None, None, None, None, None, None, None, None, None, None, None, None, None, None, None, None, None, None, None, None, None, None, None, None, None, None, None, None, None, None, None, None, None, None, None, None, None, None, None, None, None, None, None, None, None, None, None, None, None, None, None, None, None, None, None, None, None, None, None, None, None, None, None, None, None, None, None, None, None, None, None, None, None, None, None, None, None, None, None, None, None, None, None, None, None, None, None, None, None, None, None, None, None, None, None, None, None, None, None, None, None, None, None, None, None, None, None, None, None, None, None, None, None, None, None, None, None, None, None, None, None, None, None, None, None, None, None, None, None, None, None, None, None, None, None, None, None, None, None, None, None, None, None, None, None, None, None, None, None, None, None, None, None, None, None, None, None, None, None, None, None, None, None, None, None, None, None, None, None, None, None, None, None, None, None, None, None, None, None, None, None, None, None, None, None, None, None, None, None, None, None, None, None, None, None, None, None, None, None, None, None, None, None, None, None, None, None, None, None, None, None, None, None, None, None, None, None, None, None, None, None, None, None, None, None, None, None, None, None, None, None, None, None, None, None, None, None, None, None, None, None, None, None, None, None, None, None, None, None, None, None, None, None, None, None, None, None, None, None, None, None, None, None, None, None, None, None, None, None, None, None, None, None, None, None, None, None, None, None, None, None, None, None, None, None, None, None, None, None, None, None, None, None, None, None, None, None, None, None, None, None, None, None, None, None, None, None, None, None, None, None, None, None, None, None, None, None, None, None, None, None, None, None, None, None, None, None, None, None, None, None, None, None, None, None, None, None, None, None, None, None, None, None, None, None, None, None, None, None, None, None, None, None, None, None, None, None, None, None, None, None, None, None, None, None, None, None, None, None, None, None, None, None, None, None, None, None, None, None, None, None, None, None, None, None, None, None, None, None, None, None, None, None, None, None, None, None, None, None, None, None, None, None, None, None, None, None, None, None, None, None, None, None, None, None, None, None, None, None, None, None, None, None, None, None, None, None, None, None, None, None, None, None, None, None, None, None, None, None, None, None, None, None, None, None, None, None, None, None, None, None, None, None, None, None, None, None, None, None, None, None, None, None, None, None, None, None, None, None, None, None, None, None, None, None, None, None, None, None, None, None, None, None, None, None, None, None, None, None, None, None, None, None, None, None, None, None, None, None, None, None, None, None, None, None, None, None, None, None, None, None, None, None, None, None, None, None, None, None, None, None, None, None, None, None, None, None, None, None, None, None, None, None, None, None, None, None, None, None, None, None, None, None, None, None, None, None, None, None, None, None, None, None, None, None, None, None, None, None, None, None, None, None, None, None, None, None, None, None, None, None, None, None, None, None, None, None, None, None, None, None, None, None, None, None, None, None, None, None, None, None, None, None, None, None, None, None, None, None, None, None, None, None, None, None, None, None, None, None, None, None, None, None, None, None, None, None, None, None, None, None, None, None, None, None, None, None, None, None, None, None, None, None, None, None, None, None, None, None, None, None, None, None, None, None, None, None, None, None, None, None, None, None, None, None, None, None, None, None, None, None, None, None, None, None, None, None, None, None, None, None, None, None, None, None, None, None, None, None, None, None, None, None, None, None, None, None, None, None, None, None, None, None, None, None, None, None, None, None, None, None, None, None, None, None, None, None, None, None, None, None, None, None, None, None, None, None, None, None, None, None, None, None, None, None, None, None, None, None, None, None, None, None, None, None, None, None, None, None, None, None, None, None, None, None, None, None, None, None, None, None, None, None, None, None, None, None, None, None, None, None, None, None, None, None, None, None, None, None, None, None, None, None, None, None, None, None, None, None, None, None, None, None, None, None, None, None, None, None, None, None, None, None, None, None, None, None, None, None, None, None, None, None, None, None, None, None, None, None, None, None, None, None, None, None, None, None, None, None, None, None, None, None, None, None, None, None, None, None, None, None, None, None]\n"
     ]
    },
    {
     "name": "stderr",
     "output_type": "stream",
     "text": [
      "\n",
      "监视进度: 100%|██████████| 1000/1000 [00:00<00:00, 21912.21it/s]"
     ]
    },
    {
     "name": "stdout",
     "output_type": "stream",
     "text": [
      "[None, None, None, None, None, None, None, None, None, None, None, None, None, None, None, None, None, None, None, None, None, None, None, None, None, None, None, None, None, None, None, None, None, None, None, None, None, None, None, None, None, None, None, None, None, None, None, None, None, None, None, None, None, None, None, None, None, None, None, None, None, None, None, None, None, None, None, None, None, None, None, None, None, None, None, None, None, None, None, None, None, None, None, None, None, None, None, None, None, None, None, None, None, None, None, None, None, None, None, None, None, None, None, None, None, None, None, None, None, None, None, None, None, None, None, None, None, None, None, None, None, None, None, None, None, None, None, None, None, None, None, None, None, None, None, None, None, None, None, None, None, None, None, None, None, None, None, None, None, None, None, None, None, None, None, None, None, None, None, None, None, None, None, None, None, None, None, None, None, None, None, None, None, None, None, None, None, None, None, None, None, None, None, None, None, None, None, None, None, None, None, None, None, None, None, None, None, None, None, None, None, None, None, None, None, None, None, None, None, None, None, None, None, None, None, None, None, None, None, None, None, None, None, None, None, None, None, None, None, None, None, None, None, None, None, None, None, None, None, None, None, None, None, None, None, None, None, None, None, None, None, None, None, None, None, None, None, None, None, None, None, None, None, None, None, None, None, None, None, None, None, None, None, None, None, None, None, None, None, None, None, None, None, None, None, None, None, None, None, None, None, None, None, None, None, None, None, None, None, None, None, None, None, None, None, None, None, None, None, None, None, None, None, None, None, None, None, None, None, None, None, None, None, None, None, None, None, None, None, None, None, None, None, None, None, None, None, None, None, None, None, None, None, None, None, None, None, None, None, None, None, None, None, None, None, None, None, None, None, None, None, None, None, None, None, None, None, None, None, None, None, None, None, None, None, None, None, None, None, None, None, None, None, None, None, None, None, None, None, None, None, None, None, None, None, None, None, None, None, None, None, None, None, None, None, None, None, None, None, None, None, None, None, None, None, None, None, None, None, None, None, None, None, None, None, None, None, None, None, None, None, None, None, None, None, None, None, None, None, None, None, None, None, None, None, None, None, None, None, None, None, None, None, None, None, None, None, None, None, None, None, None, None, None, None, None, None, None, None, None, None, None, None, None, None, None, None, None, None, None, None, None, None, None, None, None, None, None, None, None, None, None, None, None, None, None, None, None, None, None, None, None, None, None, None, None, None, None, None, None, None, None, None, None, None, None, None, None, None, None, None, None, None, None, None, None, None, None, None, None, None, None, None, None, None, None, None, None, None, None, None, None, None, None, None, None, None, None, None, None, None, None, None, None, None, None, None, None, None, None, None, None, None, None, None, None, None, None, None, None, None, None, None, None, None, None, None, None, None, None, None, None, None, None, None, None, None, None, None, None, None, None, None, None, None, None, None, None, None, None, None, None, None, None, None, None, None, None, None, None, None, None, None, None, None, None, None, None, None, None, None, None, None, None, None, None, None, None, None, None, None, None, None, None, None, None, None, None, None, None, None, None, None, None, None, None, None, None, None, None, None, None, None, None, None, None, None, None, None, None, None, None, None, None, None, None, None, None, None, None, None, None, None, None, None, None, None, None, None, None, None, None, None, None, None, None, None, None, None, None, None, None, None, None, None, None, None, None, None, None, None, None, None, None, None, None, None, None, None, None, None, None, None, None, None, None, None, None, None, None, None, None, None, None, None, None, None, None, None, None, None, None, None, None, None, None, None, None, None, None, None, None, None, None, None, None, None, None, None, None, None, None, None, None, None, None, None, None, None, None, None, None, None, None, None, None, None, None, None, None, None, None, None, None, None, None, None, None, None, None, None, None, None, None, None, None, None, None, None, None, None, None, None, None, None, None, None, None, None, None, None, None, None, None, None, None, None, None, None, None, None, None, None, None, None, None, None, None, None, None, None, None, None, None, None, None, None, None, None, None, None, None, None, None, None, None, None, None, None, None, None, None, None, None, None, None, None, None, None, None, None, None, None, None, None, None, None, None, None, None, None, None, None, None, None, None, None, None, None, None, None, None, None, None, None, None, None, None, None, None, None, None, None, None, None, None, None, None, None, None, None, None, None, None, None, None, None, None, None, None, None, None, None, None, None, None, None, None, None, None, None, None, None, None, None, None, None, None, None, None, None, None, None, None, None, None, None, None, None, None, None, None, None, None, None, None, None, None, None, None, None, None, None, None, None, None, None, None, None, None, None, None, None, None, None, None, None, None, None, None, None, None, None, None, None, None, None, None, None, None, None, None, None, None, None, None, None, None, None, None, None, None, None, None, None, None, None, None, None, None, None, None, None, None, None, None, None, None, None, None]\n"
     ]
    },
    {
     "name": "stderr",
     "output_type": "stream",
     "text": [
      "\n"
     ]
    }
   ],
   "source": [
    "evaluation_data = pd.read_csv('./EvaluationSample.csv')\n",
    "# download images folder1\n",
    "images = evaluation_data['url1'].tolist()\n",
    "with Pool(20) as p:\n",
    "    print(list((tqdm(p.imap(download_image, images), total=len(images), desc='监视进度'))))\n",
    "\n",
    "images = evaluation_data['url2'].tolist()\n",
    "with Pool(20) as p:\n",
    "    print(list((tqdm(p.imap(download_image, images), total=len(images), desc='监视进度'))))\n",
    "\n",
    "evaluation_data['filename1'] = evaluation_data['url1'].apply(lambda x: x.split('/')[-1])\n",
    "evaluation_data['filename2'] = evaluation_data['url2'].apply(lambda x: x.split('/')[-1])"
   ]
  },
  {
   "cell_type": "code",
   "execution_count": 5,
   "id": "dd2a2245",
   "metadata": {},
   "outputs": [
    {
     "data": {
      "text/html": [
       "<div>\n",
       "<style scoped>\n",
       "    .dataframe tbody tr th:only-of-type {\n",
       "        vertical-align: middle;\n",
       "    }\n",
       "\n",
       "    .dataframe tbody tr th {\n",
       "        vertical-align: top;\n",
       "    }\n",
       "\n",
       "    .dataframe thead th {\n",
       "        text-align: right;\n",
       "    }\n",
       "</style>\n",
       "<table border=\"1\" class=\"dataframe\">\n",
       "  <thead>\n",
       "    <tr style=\"text-align: right;\">\n",
       "      <th></th>\n",
       "      <th>url1</th>\n",
       "      <th>url2</th>\n",
       "      <th>label</th>\n",
       "      <th>filename1</th>\n",
       "      <th>filename2</th>\n",
       "    </tr>\n",
       "  </thead>\n",
       "  <tbody>\n",
       "    <tr>\n",
       "      <th>0</th>\n",
       "      <td>https://image.xiaozhustatic1.com/00,800,533/1,...</td>\n",
       "      <td>https://pic.tujia.com/upload/cunit/day_200325/...</td>\n",
       "      <td>1</td>\n",
       "      <td>1,19,0,93,10105,1124,750,ab76f566.jpg</td>\n",
       "      <td>202003250350513423_700_467.jpeg</td>\n",
       "    </tr>\n",
       "    <tr>\n",
       "      <th>1</th>\n",
       "      <td>https://image.xiaozhustatic1.com/00,800,532/1,...</td>\n",
       "      <td>https://pic.tujia.com/upload/cunit/day_200325/...</td>\n",
       "      <td>1</td>\n",
       "      <td>1,19,0,18,8193,1126,750,380e8003.jpg</td>\n",
       "      <td>202003250351024163_700_467.jpeg</td>\n",
       "    </tr>\n",
       "    <tr>\n",
       "      <th>2</th>\n",
       "      <td>https://image.xiaozhustatic1.com/00,800,533/s,...</td>\n",
       "      <td>https://pic.tujia.com/upload/landlordunit/day_...</td>\n",
       "      <td>1</td>\n",
       "      <td>s,1,BMwm,998,666,2,31966013.jpg</td>\n",
       "      <td>202005252247514917_700_467.jpg</td>\n",
       "    </tr>\n",
       "    <tr>\n",
       "      <th>3</th>\n",
       "      <td>https://image.xiaozhustatic1.com/00,800,533/s,...</td>\n",
       "      <td>https://pic.tujia.com/upload/landlordunit/day_...</td>\n",
       "      <td>1</td>\n",
       "      <td>s,1,BMwo,998,666,2,0043afce.jpg</td>\n",
       "      <td>202005252247521424_700_467.jpg</td>\n",
       "    </tr>\n",
       "    <tr>\n",
       "      <th>4</th>\n",
       "      <td>https://image.xiaozhustatic1.com/00,800,600/s,...</td>\n",
       "      <td>https://pic.tujia.com/upload/landlordunit/day_...</td>\n",
       "      <td>1</td>\n",
       "      <td>s,1,s6EQ,1000,750,2,24d49b15.jpg</td>\n",
       "      <td>202004192324001833_700_467.jpg</td>\n",
       "    </tr>\n",
       "  </tbody>\n",
       "</table>\n",
       "</div>"
      ],
      "text/plain": [
       "                                                url1  \\\n",
       "0  https://image.xiaozhustatic1.com/00,800,533/1,...   \n",
       "1  https://image.xiaozhustatic1.com/00,800,532/1,...   \n",
       "2  https://image.xiaozhustatic1.com/00,800,533/s,...   \n",
       "3  https://image.xiaozhustatic1.com/00,800,533/s,...   \n",
       "4  https://image.xiaozhustatic1.com/00,800,600/s,...   \n",
       "\n",
       "                                                url2  label  \\\n",
       "0  https://pic.tujia.com/upload/cunit/day_200325/...      1   \n",
       "1  https://pic.tujia.com/upload/cunit/day_200325/...      1   \n",
       "2  https://pic.tujia.com/upload/landlordunit/day_...      1   \n",
       "3  https://pic.tujia.com/upload/landlordunit/day_...      1   \n",
       "4  https://pic.tujia.com/upload/landlordunit/day_...      1   \n",
       "\n",
       "                               filename1                        filename2  \n",
       "0  1,19,0,93,10105,1124,750,ab76f566.jpg  202003250350513423_700_467.jpeg  \n",
       "1   1,19,0,18,8193,1126,750,380e8003.jpg  202003250351024163_700_467.jpeg  \n",
       "2        s,1,BMwm,998,666,2,31966013.jpg   202005252247514917_700_467.jpg  \n",
       "3        s,1,BMwo,998,666,2,0043afce.jpg   202005252247521424_700_467.jpg  \n",
       "4       s,1,s6EQ,1000,750,2,24d49b15.jpg   202004192324001833_700_467.jpg  "
      ]
     },
     "execution_count": 5,
     "metadata": {},
     "output_type": "execute_result"
    }
   ],
   "source": [
    "evaluation_data.head()"
   ]
  },
  {
   "cell_type": "markdown",
   "id": "285bb884",
   "metadata": {},
   "source": [
    "### directly zero-shot"
   ]
  },
  {
   "cell_type": "code",
   "execution_count": 6,
   "id": "94357f31",
   "metadata": {},
   "outputs": [],
   "source": [
    "device = \"cuda\" if torch.cuda.is_available() else \"cpu\"\n",
    "model, preprocess = clip.load(\"ViT-B/32\", device=device)"
   ]
  },
  {
   "cell_type": "code",
   "execution_count": 16,
   "id": "cd2adad9",
   "metadata": {},
   "outputs": [],
   "source": [
    "from PIL import ImageFile\n",
    "ImageFile.LOAD_TRUNCATED_IMAGES = True\n",
    "\n",
    "def get_clip_embedding(para1):\n",
    "    image_path = os.path.join('./evaluation',para1)\n",
    "    image_feature = model.encode_image(preprocess(Image.open(image_path)).unsqueeze(0).to(device))\n",
    "    image_feature = (image_feature / image_feature.norm(dim=-1, keepdim=True)).cpu().detach().numpy()\n",
    "    return image_feature\n",
    "    \n",
    "def clip_distance(para1,para2):\n",
    "    hash1 = get_clip_embedding(para1)\n",
    "    hash2 = get_clip_embedding(para2)\n",
    "    n1 = distance.cosine(hash1, hash2)\n",
    "    return n1"
   ]
  },
  {
   "cell_type": "code",
   "execution_count": 29,
   "id": "c39a7bfe",
   "metadata": {},
   "outputs": [],
   "source": [
    "evaluation_data['similarity'] = 1-evaluation_data.apply(lambda x: clip_distance(x['filename1'], x['filename2']), axis=1)"
   ]
  },
  {
   "cell_type": "code",
   "execution_count": 30,
   "id": "7aaa966e",
   "metadata": {},
   "outputs": [],
   "source": [
    "import matplotlib\n",
    "%matplotlib inline\n",
    "import matplotlib.pyplot as plt\n",
    "from sklearn.metrics import roc_curve, auc, confusion_matrix, f1_score, precision_score, recall_score\n",
    "\n",
    "def draw_roc(test_Y, pred):\n",
    "    fpr, tpr, thresholds = roc_curve(test_Y, pred, pos_label=1)\n",
    "    #print('fpr:', fpr)\n",
    "    #print('tpr:', tpr)\n",
    "    #print('thresholds:', thresholds)\n",
    "    auc_score = auc(fpr, tpr)\n",
    "    print('auc:', auc_score)\n",
    "\n",
    "    plt.figure()\n",
    "    lw = 2\n",
    "    plt.plot(fpr, tpr, color='darkorange',\n",
    "             lw=lw, label='ROC curve (area = %0.2f)' % auc_score)\n",
    "    plt.plot([0, 1], [0, 1], color='navy', lw=lw, linestyle='--')\n",
    "    plt.xlim([0.0, 1.0])\n",
    "    plt.ylim([0.0, 1.05])\n",
    "    plt.xlabel('False Positive Rate')\n",
    "    plt.ylabel('True Positive Rate')\n",
    "    plt.title('Receiver operating characteristic example')\n",
    "    plt.legend(loc=\"lower right\")\n",
    "    plt.show()\n",
    "    \n",
    "def p_r_f1(test_Y, pred, thres=0.5, pos_label=1):\n",
    "    pred = [p>=thres and 1 or 0 for p in pred]\n",
    "    cm = confusion_matrix(test_Y, pred)\n",
    "    print(cm)\n",
    "    precision = precision_score(test_Y, pred, pos_label=pos_label)\n",
    "    print('precision:', precision)\n",
    "    recall = recall_score(test_Y, pred, pos_label=pos_label)\n",
    "    print('recall:', recall)\n",
    "    f1 = f1_score(test_Y, pred, pos_label=pos_label)\n",
    "    print('f1_score:', f1)"
   ]
  },
  {
   "cell_type": "code",
   "execution_count": 33,
   "id": "f7e4ac9a",
   "metadata": {},
   "outputs": [
    {
     "name": "stdout",
     "output_type": "stream",
     "text": [
      "auc: 0.7247407643613002\n"
     ]
    },
    {
     "data": {
      "image/png": "[encoded data removed]",
      "text/plain": [
       "<Figure size 432x288 with 1 Axes>"
      ]
     },
     "metadata": {
      "needs_background": "light"
     },
     "output_type": "display_data"
    },
    {
     "name": "stdout",
     "output_type": "stream",
     "text": [
      "[[216   0]\n",
      " [746  38]]\n",
      "precision: 1.0\n",
      "recall: 0.04846938775510204\n",
      "f1_score: 0.0924574209245742\n",
      "[[193  23]\n",
      " [510 274]]\n",
      "precision: 0.9225589225589226\n",
      "recall: 0.3494897959183674\n",
      "f1_score: 0.5069380203515264\n",
      "[[ 89 127]\n",
      " [113 671]]\n",
      "precision: 0.8408521303258145\n",
      "recall: 0.8558673469387755\n",
      "f1_score: 0.8482932996207333\n",
      "[[  0 216]\n",
      " [  0 784]]\n",
      "precision: 0.784\n",
      "recall: 1.0\n",
      "f1_score: 0.8789237668161435\n",
      "[[  0 216]\n",
      " [  0 784]]\n",
      "precision: 0.784\n",
      "recall: 1.0\n",
      "f1_score: 0.8789237668161435\n",
      "[[  0 216]\n",
      " [  0 784]]\n",
      "precision: 0.784\n",
      "recall: 1.0\n",
      "f1_score: 0.8789237668161435\n",
      "[[  0 216]\n",
      " [  0 784]]\n",
      "precision: 0.784\n",
      "recall: 1.0\n",
      "f1_score: 0.8789237668161435\n",
      "[[  0 216]\n",
      " [  0 784]]\n",
      "precision: 0.784\n",
      "recall: 1.0\n",
      "f1_score: 0.8789237668161435\n",
      "[[  0 216]\n",
      " [  0 784]]\n",
      "precision: 0.784\n",
      "recall: 1.0\n",
      "f1_score: 0.8789237668161435\n"
     ]
    }
   ],
   "source": [
    "target = evaluation_data['label'].values\n",
    "pred = evaluation_data['similarity'].values\n",
    "draw_roc(target, pred)\n",
    "p_r_f1(target, pred, thres=0.98)\n",
    "p_r_f1(target, pred, thres=0.95)\n",
    "p_r_f1(target, pred, thres=0.9)\n",
    "p_r_f1(target, pred, thres=0.8)\n",
    "p_r_f1(target, pred, thres=0.7)\n",
    "p_r_f1(target, pred, thres=0.6)\n",
    "p_r_f1(target, pred)\n",
    "p_r_f1(target, pred, thres=0.4)\n",
    "p_r_f1(target, pred, thres=0.3)"
   ]
  },
  {
   "cell_type": "markdown",
   "id": "97855ef9",
   "metadata": {},
   "source": [
    "## clip one shot - logistic regressor"
   ]
  },
  {
   "cell_type": "code",
   "execution_count": 66,
   "id": "9a36dd5f",
   "metadata": {},
   "outputs": [],
   "source": [
    "def get_clip_embedding(para1):\n",
    "    image_path = os.path.join('./evaluation',para1)\n",
    "    image_feature = model.encode_image(preprocess(Image.open(image_path)).unsqueeze(0).to(device))\n",
    "    image_feature = (image_feature / image_feature.norm(dim=-1, keepdim=True)).cpu().detach().numpy()\n",
    "    return image_feature"
   ]
  },
  {
   "cell_type": "code",
   "execution_count": 71,
   "id": "a5740556",
   "metadata": {},
   "outputs": [
    {
     "name": "stderr",
     "output_type": "stream",
     "text": [
      "100%|██████████| 1000/1000 [01:11<00:00, 14.04it/s]\n"
     ]
    }
   ],
   "source": [
    "all_features = []\n",
    "all_labels = []\n",
    "\n",
    "for i in tqdm(range(len(evaluation_data))):\n",
    "    a1 = get_clip_embedding(evaluation_data['filename1'][i])\n",
    "    a2 = get_clip_embedding(evaluation_data['filename2'][i])\n",
    "    features = np.concatenate((a1,a2),axis=1)\n",
    "    labels = evaluation_data['label'][i]\n",
    "    \n",
    "    all_features.append(features)\n",
    "    all_labels.append(labels)"
   ]
  },
  {
   "cell_type": "code",
   "execution_count": 83,
   "id": "6e701eb7",
   "metadata": {},
   "outputs": [],
   "source": [
    "all_feature = np.array(all_features).reshape([1000,1024])\n",
    "all_label = np.array(all_labels)"
   ]
  },
  {
   "cell_type": "code",
   "execution_count": 93,
   "id": "fa220813",
   "metadata": {},
   "outputs": [],
   "source": [
    "from sklearn.model_selection import train_test_split\n",
    "\n",
    "X_train, X_test, y_train, y_test = train_test_split(train_feature, train_label, test_size=0.33, random_state=42)"
   ]
  },
  {
   "cell_type": "code",
   "execution_count": 97,
   "id": "c53ea91d",
   "metadata": {},
   "outputs": [
    {
     "name": "stdout",
     "output_type": "stream",
     "text": [
      "train Accuracy = 78.507\n",
      "val Accuracy = 78.182\n"
     ]
    },
    {
     "name": "stderr",
     "output_type": "stream",
     "text": [
      "[Parallel(n_jobs=1)]: Using backend SequentialBackend with 1 concurrent workers.\n",
      "[Parallel(n_jobs=1)]: Done   1 out of   1 | elapsed:    0.0s finished\n"
     ]
    }
   ],
   "source": [
    "from sklearn.linear_model import LogisticRegression\n",
    "\n",
    "#train_feature, train_label = torch.cat(all_features).cpu().numpy(), torch.cat(all_labels).cpu().numpy()\n",
    "\n",
    "# Perform logistic regression\n",
    "classifier = LogisticRegression(random_state=0, C=0.316, max_iter=2000, verbose=1)\n",
    "classifier.fit(X_train, y_train)\n",
    "\n",
    "# Evaluate using the logistic regression classifier\n",
    "predictions = classifier.predict(X_train)\n",
    "accuracy = np.mean((y_train == predictions).astype(np.float)) * 100.\n",
    "print(f\"train Accuracy = {accuracy:.3f}\")\n",
    "\n",
    "# Evaluate using the logistic regression classifier\n",
    "predictions = classifier.predict(X_test)\n",
    "accuracy = np.mean((y_test == predictions).astype(np.float)) * 100.\n",
    "print(f\"val Accuracy = {accuracy:.3f}\")\n"
   ]
  },
  {
   "cell_type": "code",
   "execution_count": 96,
   "id": "5b632c31",
   "metadata": {},
   "outputs": [
    {
     "name": "stdout",
     "output_type": "stream",
     "text": [
      "[[  0  72]\n",
      " [  0 258]]\n"
     ]
    }
   ],
   "source": [
    "cm = confusion_matrix(y_test, predictions)\n",
    "print(cm)"
   ]
  },
  {
   "cell_type": "markdown",
   "id": "5b9eb2b6",
   "metadata": {},
   "source": [
    "## clip oneshot -lightgbm"
   ]
  },
  {
   "cell_type": "code",
   "execution_count": 99,
   "id": "19ee125c",
   "metadata": {},
   "outputs": [
    {
     "name": "stdout",
     "output_type": "stream",
     "text": [
      "Collecting lightgbm\n",
      "  Downloading lightgbm-3.2.1-py3-none-manylinux1_x86_64.whl (2.0 MB)\n",
      "\u001b[K     |████████████████████████████████| 2.0 MB 4.6 MB/s eta 0:00:01\n",
      "\u001b[?25hRequirement already satisfied: wheel in /home/ec2-user/anaconda3/envs/pytorch_latest_p36/lib/python3.6/site-packages (from lightgbm) (0.36.2)\n",
      "Requirement already satisfied: scikit-learn!=0.22.0 in /home/ec2-user/anaconda3/envs/pytorch_latest_p36/lib/python3.6/site-packages (from lightgbm) (0.24.1)\n",
      "Requirement already satisfied: scipy in /home/ec2-user/anaconda3/envs/pytorch_latest_p36/lib/python3.6/site-packages (from lightgbm) (1.5.3)\n",
      "Requirement already satisfied: numpy in /home/ec2-user/anaconda3/envs/pytorch_latest_p36/lib/python3.6/site-packages (from lightgbm) (1.19.2)\n",
      "Requirement already satisfied: threadpoolctl>=2.0.0 in /home/ec2-user/anaconda3/envs/pytorch_latest_p36/lib/python3.6/site-packages (from scikit-learn!=0.22.0->lightgbm) (2.1.0)\n",
      "Requirement already satisfied: joblib>=0.11 in /home/ec2-user/anaconda3/envs/pytorch_latest_p36/lib/python3.6/site-packages (from scikit-learn!=0.22.0->lightgbm) (1.0.1)\n",
      "Installing collected packages: lightgbm\n",
      "Successfully installed lightgbm-3.2.1\n",
      "\u001b[33mWARNING: You are using pip version 21.1.3; however, version 21.2.4 is available.\n",
      "You should consider upgrading via the '/home/ec2-user/anaconda3/envs/pytorch_latest_p36/bin/python -m pip install --upgrade pip' command.\u001b[0m\n"
     ]
    }
   ],
   "source": [
    "!pip install lightgbm"
   ]
  },
  {
   "cell_type": "code",
   "execution_count": 110,
   "id": "1f75c468",
   "metadata": {},
   "outputs": [
    {
     "name": "stdout",
     "output_type": "stream",
     "text": [
      "Starting training...\n",
      "[LightGBM] [Warning] feature_fraction is set=0.9, colsample_bytree=1.0 will be ignored. Current value: feature_fraction=0.9\n",
      "[LightGBM] [Warning] bagging_fraction is set=0.9, subsample=1.0 will be ignored. Current value: bagging_fraction=0.9\n",
      "[1]\ttraining's auc: 0.836568\ttraining's binary_logloss: 0.490555\tvalid_0's auc: 0.666828\tvalid_0's binary_logloss: 0.51115\n",
      "Training until validation scores don't improve for 5 rounds\n",
      "[2]\ttraining's auc: 0.928443\ttraining's binary_logloss: 0.457057\tvalid_0's auc: 0.723137\tvalid_0's binary_logloss: 0.500485\n",
      "[3]\ttraining's auc: 0.968275\ttraining's binary_logloss: 0.427813\tvalid_0's auc: 0.742786\tvalid_0's binary_logloss: 0.488744\n",
      "[4]\ttraining's auc: 0.970011\ttraining's binary_logloss: 0.405733\tvalid_0's auc: 0.753876\tvalid_0's binary_logloss: 0.4804\n",
      "[5]\ttraining's auc: 0.985464\ttraining's binary_logloss: 0.379626\tvalid_0's auc: 0.768519\tvalid_0's binary_logloss: 0.471182\n",
      "[6]\ttraining's auc: 0.991141\ttraining's binary_logloss: 0.35916\tvalid_0's auc: 0.793147\tvalid_0's binary_logloss: 0.460635\n",
      "[7]\ttraining's auc: 0.994006\ttraining's binary_logloss: 0.339829\tvalid_0's auc: 0.802595\tvalid_0's binary_logloss: 0.452663\n",
      "[8]\ttraining's auc: 0.995458\ttraining's binary_logloss: 0.320783\tvalid_0's auc: 0.793443\tvalid_0's binary_logloss: 0.450021\n",
      "[9]\ttraining's auc: 0.998204\ttraining's binary_logloss: 0.301691\tvalid_0's auc: 0.816053\tvalid_0's binary_logloss: 0.441125\n",
      "[10]\ttraining's auc: 0.99864\ttraining's binary_logloss: 0.290563\tvalid_0's auc: 0.822997\tvalid_0's binary_logloss: 0.435123\n",
      "[11]\ttraining's auc: 0.999036\ttraining's binary_logloss: 0.276362\tvalid_0's auc: 0.827412\tvalid_0's binary_logloss: 0.429557\n",
      "[12]\ttraining's auc: 0.999181\ttraining's binary_logloss: 0.265284\tvalid_0's auc: 0.819068\tvalid_0's binary_logloss: 0.428821\n",
      "[13]\ttraining's auc: 0.999683\ttraining's binary_logloss: 0.250301\tvalid_0's auc: 0.824612\tvalid_0's binary_logloss: 0.424278\n",
      "[14]\ttraining's auc: 0.999894\ttraining's binary_logloss: 0.235932\tvalid_0's auc: 0.829834\tvalid_0's binary_logloss: 0.418239\n",
      "[15]\ttraining's auc: 0.99996\ttraining's binary_logloss: 0.222709\tvalid_0's auc: 0.836025\tvalid_0's binary_logloss: 0.413106\n",
      "[16]\ttraining's auc: 0.999987\ttraining's binary_logloss: 0.213045\tvalid_0's auc: 0.843885\tvalid_0's binary_logloss: 0.408352\n",
      "[17]\ttraining's auc: 0.999987\ttraining's binary_logloss: 0.20604\tvalid_0's auc: 0.84733\tvalid_0's binary_logloss: 0.404962\n",
      "[18]\ttraining's auc: 1\ttraining's binary_logloss: 0.197239\tvalid_0's auc: 0.846684\tvalid_0's binary_logloss: 0.403511\n",
      "[19]\ttraining's auc: 1\ttraining's binary_logloss: 0.190088\tvalid_0's auc: 0.845338\tvalid_0's binary_logloss: 0.402563\n",
      "[20]\ttraining's auc: 1\ttraining's binary_logloss: 0.184195\tvalid_0's auc: 0.847438\tvalid_0's binary_logloss: 0.399665\n",
      "[21]\ttraining's auc: 1\ttraining's binary_logloss: 0.174783\tvalid_0's auc: 0.848407\tvalid_0's binary_logloss: 0.398259\n",
      "[22]\ttraining's auc: 1\ttraining's binary_logloss: 0.166455\tvalid_0's auc: 0.844854\tvalid_0's binary_logloss: 0.398418\n",
      "[23]\ttraining's auc: 1\ttraining's binary_logloss: 0.162805\tvalid_0's auc: 0.843938\tvalid_0's binary_logloss: 0.397731\n",
      "[24]\ttraining's auc: 1\ttraining's binary_logloss: 0.154984\tvalid_0's auc: 0.841085\tvalid_0's binary_logloss: 0.397593\n",
      "[25]\ttraining's auc: 1\ttraining's binary_logloss: 0.150119\tvalid_0's auc: 0.842162\tvalid_0's binary_logloss: 0.395958\n",
      "[26]\ttraining's auc: 1\ttraining's binary_logloss: 0.145568\tvalid_0's auc: 0.841031\tvalid_0's binary_logloss: 0.395421\n",
      "Early stopping, best iteration is:\n",
      "[21]\ttraining's auc: 1\ttraining's binary_logloss: 0.174783\tvalid_0's auc: 0.848407\tvalid_0's binary_logloss: 0.398259\n"
     ]
    },
    {
     "data": {
      "text/plain": [
       "LGBMClassifier(bagging_fraction=0.9, feature_fraction=0.9, max_depth=5,\n",
       "               n_estimators=1000, num_leaves=50, objective='binary',\n",
       "               reg_lambda=0.2)"
      ]
     },
     "execution_count": 110,
     "metadata": {},
     "output_type": "execute_result"
    }
   ],
   "source": [
    "\n",
    "import lightgbm as lgb\n",
    "\n",
    "print('Starting training...')\n",
    "# 模型训练\n",
    "gbm = lgb.LGBMClassifier(boosting_type='gbdt', objective='binary', num_leaves=50,\n",
    "                                learning_rate=0.1, n_estimators=1000, max_depth=5,\n",
    "                                bagging_fraction=0.9, feature_fraction=0.9, reg_lambda=0.2)\n",
    "\n",
    "gbm.fit(X_train, y_train,\n",
    "        eval_set=[(X_test, y_test),(X_train,y_train)], verbose=True, eval_metric=['auc'],\n",
    "        early_stopping_rounds=5)\n"
   ]
  },
  {
   "cell_type": "code",
   "execution_count": 111,
   "id": "2a9a1d0e",
   "metadata": {},
   "outputs": [
    {
     "name": "stdout",
     "output_type": "stream",
     "text": [
      "val Accuracy = 81.515\n"
     ]
    }
   ],
   "source": [
    "# Evaluate using the logistic regression classifier\n",
    "predictions = gbm.predict(X_test)\n",
    "accuracy = np.mean((y_test == predictions).astype(np.float)) * 100.\n",
    "print(f\"val Accuracy = {accuracy:.3f}\")"
   ]
  },
  {
   "cell_type": "code",
   "execution_count": 112,
   "id": "a0c391ce",
   "metadata": {},
   "outputs": [
    {
     "name": "stdout",
     "output_type": "stream",
     "text": [
      "[[ 11  61]\n",
      " [  0 258]]\n"
     ]
    }
   ],
   "source": [
    "cm = confusion_matrix(y_test, predictions)\n",
    "print(cm)"
   ]
  },
  {
   "cell_type": "code",
   "execution_count": null,
   "id": "638ba182",
   "metadata": {},
   "outputs": [],
   "source": []
  }
 ],
 "metadata": {
  "kernelspec": {
   "display_name": "conda_pytorch_latest_p36",
   "language": "python",
   "name": "conda_pytorch_latest_p36"
  },
  "language_info": {
   "codemirror_mode": {
    "name": "ipython",
    "version": 3
   },
   "file_extension": ".py",
   "mimetype": "text/x-python",
   "name": "python",
   "nbconvert_exporter": "python",
   "pygments_lexer": "ipython3",
   "version": "3.6.13"
  }
 },
 "nbformat": 4,
 "nbformat_minor": 5
}
